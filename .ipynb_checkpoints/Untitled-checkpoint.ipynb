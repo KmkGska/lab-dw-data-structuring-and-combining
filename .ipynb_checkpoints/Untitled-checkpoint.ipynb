{
 "cells": [
  {
   "cell_type": "code",
   "execution_count": 2,
   "id": "13231cd3-4ff2-479a-b841-8980cc7a2c4c",
   "metadata": {},
   "outputs": [
    {
     "name": "stdout",
     "output_type": "stream",
     "text": [
      "Collecting faker\n",
      "  Obtaining dependency information for faker from https://files.pythonhosted.org/packages/f5/11/02ebebb09ff2104b690457cb7bc6ed700c9e0ce88cf581486bb0a5d3c88b/faker-37.8.0-py3-none-any.whl.metadata\n",
      "  Downloading faker-37.8.0-py3-none-any.whl.metadata (15 kB)\n",
      "Requirement already satisfied: tzdata in c:\\users\\kinga\\anaconda3\\lib\\site-packages (from faker) (2023.3)\n",
      "Downloading faker-37.8.0-py3-none-any.whl (2.0 MB)\n",
      "   ---------------------------------------- 0.0/2.0 MB ? eta -:--:--\n",
      "   ---------------------------------------- 0.0/2.0 MB ? eta -:--:--\n",
      "    --------------------------------------- 0.0/2.0 MB 325.1 kB/s eta 0:00:06\n",
      "   - -------------------------------------- 0.1/2.0 MB 871.5 kB/s eta 0:00:03\n",
      "   ----- ---------------------------------- 0.3/2.0 MB 1.8 MB/s eta 0:00:01\n",
      "   --------- ------------------------------ 0.5/2.0 MB 2.3 MB/s eta 0:00:01\n",
      "   ------------ --------------------------- 0.6/2.0 MB 2.6 MB/s eta 0:00:01\n",
      "   ----------------- ---------------------- 0.8/2.0 MB 2.8 MB/s eta 0:00:01\n",
      "   ------------------- -------------------- 1.0/2.0 MB 2.7 MB/s eta 0:00:01\n",
      "   ------------------- -------------------- 1.0/2.0 MB 2.7 MB/s eta 0:00:01\n",
      "   -------------------- ------------------- 1.0/2.0 MB 2.4 MB/s eta 0:00:01\n",
      "   ---------------------- ----------------- 1.1/2.0 MB 2.2 MB/s eta 0:00:01\n",
      "   ----------------------- ---------------- 1.1/2.0 MB 2.1 MB/s eta 0:00:01\n",
      "   ------------------------- -------------- 1.2/2.0 MB 1.9 MB/s eta 0:00:01\n",
      "   -------------------------- ------------- 1.3/2.0 MB 1.9 MB/s eta 0:00:01\n",
      "   --------------------------- ------------ 1.3/2.0 MB 1.8 MB/s eta 0:00:01\n",
      "   --------------------------- ------------ 1.4/2.0 MB 1.8 MB/s eta 0:00:01\n",
      "   ----------------------------- ---------- 1.4/2.0 MB 1.7 MB/s eta 0:00:01\n",
      "   ------------------------------ --------- 1.5/2.0 MB 1.7 MB/s eta 0:00:01\n",
      "   ------------------------------- -------- 1.5/2.0 MB 1.7 MB/s eta 0:00:01\n",
      "   --------------------------------- ------ 1.6/2.0 MB 1.6 MB/s eta 0:00:01\n",
      "   --------------------------------- ------ 1.7/2.0 MB 1.6 MB/s eta 0:00:01\n",
      "   ----------------------------------- ---- 1.7/2.0 MB 1.6 MB/s eta 0:00:01\n",
      "   ------------------------------------ --- 1.8/2.0 MB 1.6 MB/s eta 0:00:01\n",
      "   ------------------------------------- -- 1.8/2.0 MB 1.6 MB/s eta 0:00:01\n",
      "   -------------------------------------- - 1.9/2.0 MB 1.5 MB/s eta 0:00:01\n",
      "   ---------------------------------------  1.9/2.0 MB 1.5 MB/s eta 0:00:01\n",
      "   ---------------------------------------- 2.0/2.0 MB 1.5 MB/s eta 0:00:00\n",
      "Installing collected packages: faker\n",
      "Successfully installed faker-37.8.0\n"
     ]
    }
   ],
   "source": [
    "!pip install faker"
   ]
  },
  {
   "cell_type": "code",
   "execution_count": 4,
   "id": "7f6bcf3d-60c8-4017-9af0-8e0a04c1712c",
   "metadata": {},
   "outputs": [
    {
     "name": "stdout",
     "output_type": "stream",
     "text": [
      "37.8.0\n"
     ]
    }
   ],
   "source": [
    "import faker\n",
    "\n",
    "import importlib.metadata\n",
    "\n",
    "print(importlib.metadata.version(\"faker\"))"
   ]
  },
  {
   "cell_type": "code",
   "execution_count": 5,
   "id": "c670aa68-04ae-49a3-aa51-11e276c2265f",
   "metadata": {},
   "outputs": [],
   "source": [
    "import pandas as pd\n",
    "from faker import Faker\n",
    "import random"
   ]
  },
  {
   "cell_type": "code",
   "execution_count": 6,
   "id": "45f41b32-c539-40df-a470-41eacbee7a80",
   "metadata": {},
   "outputs": [],
   "source": [
    "# Initialize faker\n",
    "fake = Faker()"
   ]
  },
  {
   "cell_type": "code",
   "execution_count": 7,
   "id": "31cfde84-12c5-4539-a396-9a73dc52a1b1",
   "metadata": {},
   "outputs": [],
   "source": [
    "# Predefined list of possible venues in New York\n",
    "venues = [\n",
    "    \"Javits Center\", \"Central Park\", \"Broadway Theater\",\n",
    "    \"Times Square\", \"Madison Square Garden\",\n",
    "    \"Brooklyn Expo Center\", \"NYU Campus\", \"Bryant Park\"\n",
    "]\n"
   ]
  },
  {
   "cell_type": "code",
   "execution_count": 11,
   "id": "f8f5e187-9cf2-4822-9aee-c45b49f2787f",
   "metadata": {},
   "outputs": [],
   "source": [
    "# Generate fake events\n",
    "events = []\n",
    "for i in range(1, 51):  # generate 10 events (change number as needed)\n",
    "    event = {\n",
    "        \"event_id\": i,\n",
    "        \"event_name\": fake.catch_phrase() + \" Conference\",  # random event-style name\n",
    "        \"event_duration\": f\"{random.randint(1, 3)} month(s)\", # random duration\n",
    "        \"event_location\": f\"{random.choice(venues)}, New York\"\n",
    "    }\n",
    "    events.append(event)"
   ]
  },
  {
   "cell_type": "code",
   "execution_count": 12,
   "id": "f0db0c9e-cf26-4604-8cb2-37041f5aa8ae",
   "metadata": {},
   "outputs": [],
   "source": [
    "# Create DataFrame\n",
    "df = pd.DataFrame(events)\n"
   ]
  },
  {
   "cell_type": "code",
   "execution_count": 13,
   "id": "083477df-55c0-40fc-9b83-63ef527b7e01",
   "metadata": {},
   "outputs": [
    {
     "name": "stdout",
     "output_type": "stream",
     "text": [
      "    event_id                                         event_name  \\\n",
      "0          1          Cloned tertiary info-mediaries Conference   \n",
      "1          2         Diverse transitional definition Conference   \n",
      "2          3  User-centric systemic budgetary management Con...   \n",
      "3          4               Sharable real-time access Conference   \n",
      "4          5            Down-sized bottom-line array Conference   \n",
      "5          6  Diverse 3rdgeneration Internet solution Confer...   \n",
      "6          7           Team-oriented static firmware Conference   \n",
      "7          8      Multi-tiered asymmetric definition Conference   \n",
      "8          9            Centralized neutral firmware Conference   \n",
      "9         10  Decentralized client-driven installation Confe...   \n",
      "10        11        Universal zero-defect moratorium Conference   \n",
      "11        12   Object-based needs-based service-desk Conference   \n",
      "12        13           Virtual radical knowledgebase Conference   \n",
      "13        14      Customer-focused stable time-frame Conference   \n",
      "14        15   Universal contextually-based strategy Conference   \n",
      "15        16             Adaptive even-keeled policy Conference   \n",
      "16        17  Phased fault-tolerant process improvement Conf...   \n",
      "17        18              Realigned static challenge Conference   \n",
      "18        19  Inverse bi-directional artificial intelligence...   \n",
      "19        20          Synergized even-keeled archive Conference   \n",
      "20        21      Devolved system-worthy contingency Conference   \n",
      "21        22  Switchable mission-critical implementation Con...   \n",
      "22        23    Automated methodical functionalities Conference   \n",
      "23        24       Stand-alone 3rdgeneration concept Conference   \n",
      "24        25  Quality-focused mission-critical customer loya...   \n",
      "25        26    Re-engineered dynamic info-mediaries Conference   \n",
      "26        27            Multi-tiered methodical core Conference   \n",
      "27        28              Focused secondary strategy Conference   \n",
      "28        29               Optional motivating frame Conference   \n",
      "29        30  Reverse-engineered explicit application Confer...   \n",
      "30        31        Digitized reciprocal methodology Conference   \n",
      "31        32     Progressive system-worthy structure Conference   \n",
      "32        33          Streamlined analyzing firmware Conference   \n",
      "33        34           Optimized full-range extranet Conference   \n",
      "34        35  Enterprise-wide zero administration monitoring...   \n",
      "35        36     Automated attitude-oriented success Conference   \n",
      "36        37         Multi-lateral multi-state array Conference   \n",
      "37        38    Function-based foreground initiative Conference   \n",
      "38        39              Assimilated stable circuit Conference   \n",
      "39        40      Programmable client-server concept Conference   \n",
      "40        41    Persevering directional secured line Conference   \n",
      "41        42      Horizontal clear-thinking approach Conference   \n",
      "42        43        Distributed didactic application Conference   \n",
      "43        44              Profound systematic policy Conference   \n",
      "44        45    Implemented composite data-warehouse Conference   \n",
      "45        46  Synergized 6thgeneration collaboration Conference   \n",
      "46        47  Re-contextualized client-driven open system Co...   \n",
      "47        48     User-friendly actuating parallelism Conference   \n",
      "48        49            Organic maximized time-frame Conference   \n",
      "49        50   Realigned demand-driven knowledgebase Conference   \n",
      "\n",
      "   event_duration                   event_location  \n",
      "0      3 month(s)   Brooklyn Expo Center, New York  \n",
      "1      1 month(s)            Bryant Park, New York  \n",
      "2      1 month(s)   Brooklyn Expo Center, New York  \n",
      "3      2 month(s)   Brooklyn Expo Center, New York  \n",
      "4      1 month(s)           Times Square, New York  \n",
      "5      1 month(s)            Bryant Park, New York  \n",
      "6      3 month(s)       Broadway Theater, New York  \n",
      "7      2 month(s)            Bryant Park, New York  \n",
      "8      2 month(s)           Times Square, New York  \n",
      "9      2 month(s)           Central Park, New York  \n",
      "10     1 month(s)   Brooklyn Expo Center, New York  \n",
      "11     3 month(s)       Broadway Theater, New York  \n",
      "12     3 month(s)             NYU Campus, New York  \n",
      "13     3 month(s)            Bryant Park, New York  \n",
      "14     1 month(s)            Bryant Park, New York  \n",
      "15     3 month(s)       Broadway Theater, New York  \n",
      "16     3 month(s)  Madison Square Garden, New York  \n",
      "17     1 month(s)            Bryant Park, New York  \n",
      "18     3 month(s)             NYU Campus, New York  \n",
      "19     1 month(s)            Bryant Park, New York  \n",
      "20     2 month(s)            Bryant Park, New York  \n",
      "21     3 month(s)           Times Square, New York  \n",
      "22     3 month(s)          Javits Center, New York  \n",
      "23     2 month(s)       Broadway Theater, New York  \n",
      "24     3 month(s)           Central Park, New York  \n",
      "25     3 month(s)             NYU Campus, New York  \n",
      "26     1 month(s)           Central Park, New York  \n",
      "27     1 month(s)  Madison Square Garden, New York  \n",
      "28     3 month(s)             NYU Campus, New York  \n",
      "29     3 month(s)          Javits Center, New York  \n",
      "30     3 month(s)           Times Square, New York  \n",
      "31     1 month(s)            Bryant Park, New York  \n",
      "32     1 month(s)           Central Park, New York  \n",
      "33     2 month(s)  Madison Square Garden, New York  \n",
      "34     3 month(s)          Javits Center, New York  \n",
      "35     1 month(s)          Javits Center, New York  \n",
      "36     2 month(s)            Bryant Park, New York  \n",
      "37     1 month(s)           Times Square, New York  \n",
      "38     1 month(s)             NYU Campus, New York  \n",
      "39     1 month(s)   Brooklyn Expo Center, New York  \n",
      "40     3 month(s)   Brooklyn Expo Center, New York  \n",
      "41     1 month(s)            Bryant Park, New York  \n",
      "42     2 month(s)           Central Park, New York  \n",
      "43     2 month(s)  Madison Square Garden, New York  \n",
      "44     1 month(s)           Central Park, New York  \n",
      "45     3 month(s)   Brooklyn Expo Center, New York  \n",
      "46     2 month(s)          Javits Center, New York  \n",
      "47     2 month(s)          Javits Center, New York  \n",
      "48     2 month(s)       Broadway Theater, New York  \n",
      "49     2 month(s)            Bryant Park, New York  \n"
     ]
    }
   ],
   "source": [
    "# Show table\n",
    "print(df)\n"
   ]
  },
  {
   "cell_type": "code",
   "execution_count": 15,
   "id": "134af643-802b-4854-9d0b-0fce86869ef9",
   "metadata": {},
   "outputs": [],
   "source": [
    "# Save events to CSV\n",
    "df.to_csv(r\"C:\\Users\\Kinga\\Desktop\\WORK\\IRONHACK - SG\\IRONHACK\\BOOTCAMP\\WEEK 3\\DAY 2 20250916\\mini_project_2_csv_files\\events.csv\", index=False)\n"
   ]
  },
  {
   "cell_type": "code",
   "execution_count": null,
   "id": "cc403b6b-2d77-45c5-8560-680e212c8197",
   "metadata": {},
   "outputs": [],
   "source": [
    "# Suppose we have 5 events (event_id 1–5) and 20 students (student_id 1001–1020)\n",
    "event_ids = [1, 2, 3, 4, 5]\n",
    "student_ids = list(range(1001, 1021))\n"
   ]
  },
  {
   "cell_type": "code",
   "execution_count": null,
   "id": "302d5a46-0838-4085-83b8-48553eea9300",
   "metadata": {},
   "outputs": [],
   "source": [
    "# Generate attendance records\n",
    "attendance = []\n",
    "for i in range(1, 21):  # generate 20 attendance records\n",
    "    record = {\n",
    "        \"attendance_id\": i,\n",
    "        \"event_id\": random.choice(event_ids),\n",
    "        \"student_id\": random.choice(student_ids)\n",
    "    }\n",
    "    attendance.append(record)\n"
   ]
  },
  {
   "cell_type": "code",
   "execution_count": null,
   "id": "87d54109-ebb7-4454-b52c-228ff5625ad5",
   "metadata": {},
   "outputs": [],
   "source": [
    "# Create DataFrame\n",
    "attendance_df = pd.DataFrame(attendance)\n"
   ]
  },
  {
   "cell_type": "code",
   "execution_count": null,
   "id": "f7d683de-4c23-4316-8d6f-6101c09c4c6d",
   "metadata": {},
   "outputs": [],
   "source": [
    "# Show table\n",
    "print(attendance_df)"
   ]
  },
  {
   "cell_type": "code",
   "execution_count": null,
   "id": "10e960d1-3445-4e9d-8d1b-f754b9ff8434",
   "metadata": {},
   "outputs": [],
   "source": [
    "# Save attendance to CSV\n",
    "df.to_csv(r\"C:\\Users\\Kinga\\Desktop\\WORK\\IRONHACK - SG\\IRONHACK\\BOOTCAMP\\WEEK 3\\DAY 2 20250916\\mini_project_2_csv_files\\attendance.csv\", index=False)"
   ]
  },
  {
   "cell_type": "code",
   "execution_count": null,
   "id": "c90c2f67-b284-41a2-900c-fa10a7245b63",
   "metadata": {},
   "outputs": [],
   "source": []
  }
 ],
 "metadata": {
  "kernelspec": {
   "display_name": "Python [conda env:base] *",
   "language": "python",
   "name": "conda-base-py"
  },
  "language_info": {
   "codemirror_mode": {
    "name": "ipython",
    "version": 3
   },
   "file_extension": ".py",
   "mimetype": "text/x-python",
   "name": "python",
   "nbconvert_exporter": "python",
   "pygments_lexer": "ipython3",
   "version": "3.11.5"
  }
 },
 "nbformat": 4,
 "nbformat_minor": 5
}
